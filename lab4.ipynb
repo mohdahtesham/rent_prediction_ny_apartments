{
 "cells": [
  {
   "cell_type": "markdown",
   "metadata": {},
   "source": [
    "## DAB200 -- Lab 4\n",
    "\n",
    "In this lab, you will gain some experience in **denoising** a dataset in the context of a specific objective. \n",
    "\n",
    "**Overall Objective**: Create a model that predicts rent prices as well as possible for typical New York City apartments."
   ]
  },
  {
   "cell_type": "markdown",
   "metadata": {},
   "source": [
    "### Part 1 - Create and evaluate an initial model\n",
    "\n",
    "#### Code (15 marks)"
   ]
  },
  {
   "cell_type": "code",
   "execution_count": 2,
   "metadata": {},
   "outputs": [],
   "source": [
    "import pandas as pd\n",
    "rent = pd.read_csv('C:/Users/moham/Downloads/rent_3.csv')\n"
   ]
  },
  {
   "cell_type": "code",
   "execution_count": 3,
   "metadata": {},
   "outputs": [
    {
     "data": {
      "text/html": [
       "<div>\n",
       "<style scoped>\n",
       "    .dataframe tbody tr th:only-of-type {\n",
       "        vertical-align: middle;\n",
       "    }\n",
       "\n",
       "    .dataframe tbody tr th {\n",
       "        vertical-align: top;\n",
       "    }\n",
       "\n",
       "    .dataframe thead th {\n",
       "        text-align: right;\n",
       "    }\n",
       "</style>\n",
       "<table border=\"1\" class=\"dataframe\">\n",
       "  <thead>\n",
       "    <tr style=\"text-align: right;\">\n",
       "      <th></th>\n",
       "      <th>Unnamed: 0</th>\n",
       "      <th>bathrooms</th>\n",
       "      <th>bedrooms</th>\n",
       "      <th>building_id</th>\n",
       "      <th>created</th>\n",
       "      <th>description</th>\n",
       "      <th>display_address</th>\n",
       "      <th>features</th>\n",
       "      <th>latitude</th>\n",
       "      <th>longitude</th>\n",
       "      <th>manager_id</th>\n",
       "      <th>photos</th>\n",
       "      <th>price</th>\n",
       "      <th>street_address</th>\n",
       "      <th>interest_level</th>\n",
       "      <th>num_features</th>\n",
       "    </tr>\n",
       "  </thead>\n",
       "  <tbody>\n",
       "    <tr>\n",
       "      <th>0</th>\n",
       "      <td>0</td>\n",
       "      <td>1.0</td>\n",
       "      <td>0</td>\n",
       "      <td>e7332bbe70e21bd8d4edf363a078b8e0</td>\n",
       "      <td>2016-06-15 02:41:05</td>\n",
       "      <td>Studio Apts Furnished, Hardwood Floors, Queen ...</td>\n",
       "      <td>East 60th Street</td>\n",
       "      <td>['Doorman', 'Elevator', 'Dogs Allowed', 'Cats ...</td>\n",
       "      <td>40.7604</td>\n",
       "      <td>-73.9617</td>\n",
       "      <td>1eb0885296be366e78d93c4a31fee644</td>\n",
       "      <td>['https://photos.renthop.com/2/7162265_1f735c6...</td>\n",
       "      <td>2750</td>\n",
       "      <td>351 East 60th Street</td>\n",
       "      <td>low</td>\n",
       "      <td>4</td>\n",
       "    </tr>\n",
       "    <tr>\n",
       "      <th>1</th>\n",
       "      <td>1</td>\n",
       "      <td>1.0</td>\n",
       "      <td>3</td>\n",
       "      <td>5fb96990fbab79e8b88707fb477eec2f</td>\n",
       "      <td>2016-06-13 12:19:48</td>\n",
       "      <td>\\rThank you very much for the opportunity to f...</td>\n",
       "      <td>85 John st</td>\n",
       "      <td>['Cats Allowed', 'Dogs Allowed', 'Elevator']</td>\n",
       "      <td>40.7085</td>\n",
       "      <td>-74.0064</td>\n",
       "      <td>46f0c2d3ec259176e74bd67d5d4e22ff</td>\n",
       "      <td>['https://photos.renthop.com/2/7155595_de331ec...</td>\n",
       "      <td>5100</td>\n",
       "      <td>85 John st</td>\n",
       "      <td>low</td>\n",
       "      <td>3</td>\n",
       "    </tr>\n",
       "    <tr>\n",
       "      <th>2</th>\n",
       "      <td>2</td>\n",
       "      <td>1.0</td>\n",
       "      <td>1</td>\n",
       "      <td>f48ca8e7c1e3089206d249d885b7222a</td>\n",
       "      <td>2016-05-07 02:25:19</td>\n",
       "      <td>Spacious and bright Queen sized BDRM situated ...</td>\n",
       "      <td>E 90 Street</td>\n",
       "      <td>[]</td>\n",
       "      <td>40.7795</td>\n",
       "      <td>-73.9482</td>\n",
       "      <td>11c00e995d6b314daa729b6ab9b9112c</td>\n",
       "      <td>['https://photos.renthop.com/2/6977978_7e470a3...</td>\n",
       "      <td>2050</td>\n",
       "      <td>336 E 90 Street</td>\n",
       "      <td>low</td>\n",
       "      <td>1</td>\n",
       "    </tr>\n",
       "  </tbody>\n",
       "</table>\n",
       "</div>"
      ],
      "text/plain": [
       "   Unnamed: 0  bathrooms  bedrooms                       building_id  \\\n",
       "0           0        1.0         0  e7332bbe70e21bd8d4edf363a078b8e0   \n",
       "1           1        1.0         3  5fb96990fbab79e8b88707fb477eec2f   \n",
       "2           2        1.0         1  f48ca8e7c1e3089206d249d885b7222a   \n",
       "\n",
       "               created                                        description  \\\n",
       "0  2016-06-15 02:41:05  Studio Apts Furnished, Hardwood Floors, Queen ...   \n",
       "1  2016-06-13 12:19:48  \\rThank you very much for the opportunity to f...   \n",
       "2  2016-05-07 02:25:19  Spacious and bright Queen sized BDRM situated ...   \n",
       "\n",
       "    display_address                                           features  \\\n",
       "0  East 60th Street  ['Doorman', 'Elevator', 'Dogs Allowed', 'Cats ...   \n",
       "1        85 John st       ['Cats Allowed', 'Dogs Allowed', 'Elevator']   \n",
       "2       E 90 Street                                                 []   \n",
       "\n",
       "   latitude  longitude                        manager_id  \\\n",
       "0   40.7604   -73.9617  1eb0885296be366e78d93c4a31fee644   \n",
       "1   40.7085   -74.0064  46f0c2d3ec259176e74bd67d5d4e22ff   \n",
       "2   40.7795   -73.9482  11c00e995d6b314daa729b6ab9b9112c   \n",
       "\n",
       "                                              photos  price  \\\n",
       "0  ['https://photos.renthop.com/2/7162265_1f735c6...   2750   \n",
       "1  ['https://photos.renthop.com/2/7155595_de331ec...   5100   \n",
       "2  ['https://photos.renthop.com/2/6977978_7e470a3...   2050   \n",
       "\n",
       "         street_address interest_level  num_features  \n",
       "0  351 East 60th Street            low             4  \n",
       "1            85 John st            low             3  \n",
       "2       336 E 90 Street            low             1  "
      ]
     },
     "execution_count": 3,
     "metadata": {},
     "output_type": "execute_result"
    }
   ],
   "source": [
    "rent.head(3)"
   ]
  },
  {
   "cell_type": "code",
   "execution_count": 4,
   "metadata": {},
   "outputs": [
    {
     "name": "stdout",
     "output_type": "stream",
     "text": [
      "<class 'pandas.core.frame.DataFrame'>\n",
      "RangeIndex: 20000 entries, 0 to 19999\n",
      "Data columns (total 16 columns):\n",
      " #   Column           Non-Null Count  Dtype  \n",
      "---  ------           --------------  -----  \n",
      " 0   Unnamed: 0       20000 non-null  int64  \n",
      " 1   bathrooms        20000 non-null  float64\n",
      " 2   bedrooms         20000 non-null  int64  \n",
      " 3   building_id      20000 non-null  object \n",
      " 4   created          20000 non-null  object \n",
      " 5   description      19431 non-null  object \n",
      " 6   display_address  19943 non-null  object \n",
      " 7   features         20000 non-null  object \n",
      " 8   latitude         20000 non-null  float64\n",
      " 9   longitude        20000 non-null  float64\n",
      " 10  manager_id       20000 non-null  object \n",
      " 11  photos           20000 non-null  object \n",
      " 12  price            20000 non-null  int64  \n",
      " 13  street_address   19994 non-null  object \n",
      " 14  interest_level   20000 non-null  object \n",
      " 15  num_features     20000 non-null  int64  \n",
      "dtypes: float64(3), int64(4), object(9)\n",
      "memory usage: 2.4+ MB\n"
     ]
    }
   ],
   "source": [
    "rent.info()"
   ]
  },
  {
   "cell_type": "code",
   "execution_count": 5,
   "metadata": {},
   "outputs": [
    {
     "data": {
      "text/plain": [
       "Unnamed: 0           0\n",
       "bathrooms            0\n",
       "bedrooms             0\n",
       "building_id          0\n",
       "created              0\n",
       "description        569\n",
       "display_address     57\n",
       "features             0\n",
       "latitude             0\n",
       "longitude            0\n",
       "manager_id           0\n",
       "photos               0\n",
       "price                0\n",
       "street_address       6\n",
       "interest_level       0\n",
       "num_features         0\n",
       "dtype: int64"
      ]
     },
     "execution_count": 5,
     "metadata": {},
     "output_type": "execute_result"
    }
   ],
   "source": [
    "rent.isnull().sum()"
   ]
  },
  {
   "cell_type": "code",
   "execution_count": 6,
   "metadata": {},
   "outputs": [
    {
     "data": {
      "text/html": [
       "<div>\n",
       "<style scoped>\n",
       "    .dataframe tbody tr th:only-of-type {\n",
       "        vertical-align: middle;\n",
       "    }\n",
       "\n",
       "    .dataframe tbody tr th {\n",
       "        vertical-align: top;\n",
       "    }\n",
       "\n",
       "    .dataframe thead th {\n",
       "        text-align: right;\n",
       "    }\n",
       "</style>\n",
       "<table border=\"1\" class=\"dataframe\">\n",
       "  <thead>\n",
       "    <tr style=\"text-align: right;\">\n",
       "      <th></th>\n",
       "      <th>bathrooms</th>\n",
       "      <th>bedrooms</th>\n",
       "      <th>longitude</th>\n",
       "      <th>latitude</th>\n",
       "      <th>price</th>\n",
       "    </tr>\n",
       "  </thead>\n",
       "  <tbody>\n",
       "    <tr>\n",
       "      <th>0</th>\n",
       "      <td>1.0</td>\n",
       "      <td>0</td>\n",
       "      <td>-73.9617</td>\n",
       "      <td>40.7604</td>\n",
       "      <td>2750</td>\n",
       "    </tr>\n",
       "    <tr>\n",
       "      <th>1</th>\n",
       "      <td>1.0</td>\n",
       "      <td>3</td>\n",
       "      <td>-74.0064</td>\n",
       "      <td>40.7085</td>\n",
       "      <td>5100</td>\n",
       "    </tr>\n",
       "    <tr>\n",
       "      <th>2</th>\n",
       "      <td>1.0</td>\n",
       "      <td>1</td>\n",
       "      <td>-73.9482</td>\n",
       "      <td>40.7795</td>\n",
       "      <td>2050</td>\n",
       "    </tr>\n",
       "  </tbody>\n",
       "</table>\n",
       "</div>"
      ],
      "text/plain": [
       "   bathrooms  bedrooms  longitude  latitude  price\n",
       "0        1.0         0   -73.9617   40.7604   2750\n",
       "1        1.0         3   -74.0064   40.7085   5100\n",
       "2        1.0         1   -73.9482   40.7795   2050"
      ]
     },
     "execution_count": 6,
     "metadata": {},
     "output_type": "execute_result"
    }
   ],
   "source": [
    "rent_num = rent[['bathrooms', 'bedrooms', 'longitude', 'latitude', 'price']]\n",
    "\n",
    "rent_num.head(3)"
   ]
  },
  {
   "cell_type": "code",
   "execution_count": 7,
   "metadata": {},
   "outputs": [
    {
     "data": {
      "text/plain": [
       "bathrooms    0\n",
       "bedrooms     0\n",
       "longitude    0\n",
       "latitude     0\n",
       "price        0\n",
       "dtype: int64"
      ]
     },
     "execution_count": 7,
     "metadata": {},
     "output_type": "execute_result"
    }
   ],
   "source": [
    "rent_num.isnull().sum()"
   ]
  },
  {
   "cell_type": "markdown",
   "metadata": {},
   "source": [
    "### create and evaluate Model"
   ]
  },
  {
   "cell_type": "code",
   "execution_count": 8,
   "metadata": {},
   "outputs": [
    {
     "data": {
      "text/html": [
       "<div>\n",
       "<style scoped>\n",
       "    .dataframe tbody tr th:only-of-type {\n",
       "        vertical-align: middle;\n",
       "    }\n",
       "\n",
       "    .dataframe tbody tr th {\n",
       "        vertical-align: top;\n",
       "    }\n",
       "\n",
       "    .dataframe thead th {\n",
       "        text-align: right;\n",
       "    }\n",
       "</style>\n",
       "<table border=\"1\" class=\"dataframe\">\n",
       "  <thead>\n",
       "    <tr style=\"text-align: right;\">\n",
       "      <th></th>\n",
       "      <th>bathrooms</th>\n",
       "      <th>bedrooms</th>\n",
       "      <th>longitude</th>\n",
       "      <th>latitude</th>\n",
       "    </tr>\n",
       "  </thead>\n",
       "  <tbody>\n",
       "    <tr>\n",
       "      <th>0</th>\n",
       "      <td>1.0</td>\n",
       "      <td>0</td>\n",
       "      <td>-73.9617</td>\n",
       "      <td>40.7604</td>\n",
       "    </tr>\n",
       "    <tr>\n",
       "      <th>1</th>\n",
       "      <td>1.0</td>\n",
       "      <td>3</td>\n",
       "      <td>-74.0064</td>\n",
       "      <td>40.7085</td>\n",
       "    </tr>\n",
       "    <tr>\n",
       "      <th>2</th>\n",
       "      <td>1.0</td>\n",
       "      <td>1</td>\n",
       "      <td>-73.9482</td>\n",
       "      <td>40.7795</td>\n",
       "    </tr>\n",
       "    <tr>\n",
       "      <th>3</th>\n",
       "      <td>1.5</td>\n",
       "      <td>3</td>\n",
       "      <td>-73.9782</td>\n",
       "      <td>40.7426</td>\n",
       "    </tr>\n",
       "    <tr>\n",
       "      <th>4</th>\n",
       "      <td>1.0</td>\n",
       "      <td>2</td>\n",
       "      <td>-73.9187</td>\n",
       "      <td>40.6996</td>\n",
       "    </tr>\n",
       "    <tr>\n",
       "      <th>...</th>\n",
       "      <td>...</td>\n",
       "      <td>...</td>\n",
       "      <td>...</td>\n",
       "      <td>...</td>\n",
       "    </tr>\n",
       "    <tr>\n",
       "      <th>19995</th>\n",
       "      <td>2.0</td>\n",
       "      <td>2</td>\n",
       "      <td>-73.9860</td>\n",
       "      <td>40.7609</td>\n",
       "    </tr>\n",
       "    <tr>\n",
       "      <th>19996</th>\n",
       "      <td>1.0</td>\n",
       "      <td>1</td>\n",
       "      <td>-73.9457</td>\n",
       "      <td>40.7165</td>\n",
       "    </tr>\n",
       "    <tr>\n",
       "      <th>19997</th>\n",
       "      <td>1.0</td>\n",
       "      <td>1</td>\n",
       "      <td>-73.9460</td>\n",
       "      <td>40.6296</td>\n",
       "    </tr>\n",
       "    <tr>\n",
       "      <th>19998</th>\n",
       "      <td>1.5</td>\n",
       "      <td>2</td>\n",
       "      <td>-73.9901</td>\n",
       "      <td>40.7239</td>\n",
       "    </tr>\n",
       "    <tr>\n",
       "      <th>19999</th>\n",
       "      <td>1.0</td>\n",
       "      <td>2</td>\n",
       "      <td>-73.9481</td>\n",
       "      <td>40.7751</td>\n",
       "    </tr>\n",
       "  </tbody>\n",
       "</table>\n",
       "<p>20000 rows × 4 columns</p>\n",
       "</div>"
      ],
      "text/plain": [
       "       bathrooms  bedrooms  longitude  latitude\n",
       "0            1.0         0   -73.9617   40.7604\n",
       "1            1.0         3   -74.0064   40.7085\n",
       "2            1.0         1   -73.9482   40.7795\n",
       "3            1.5         3   -73.9782   40.7426\n",
       "4            1.0         2   -73.9187   40.6996\n",
       "...          ...       ...        ...       ...\n",
       "19995        2.0         2   -73.9860   40.7609\n",
       "19996        1.0         1   -73.9457   40.7165\n",
       "19997        1.0         1   -73.9460   40.6296\n",
       "19998        1.5         2   -73.9901   40.7239\n",
       "19999        1.0         2   -73.9481   40.7751\n",
       "\n",
       "[20000 rows x 4 columns]"
      ]
     },
     "execution_count": 8,
     "metadata": {},
     "output_type": "execute_result"
    }
   ],
   "source": [
    "rent_num.drop('price', axis=1)"
   ]
  },
  {
   "cell_type": "code",
   "execution_count": 9,
   "metadata": {},
   "outputs": [],
   "source": [
    "X = rent_num.drop('price', axis=1)\n",
    "y = rent_num['price']"
   ]
  },
  {
   "cell_type": "code",
   "execution_count": 10,
   "metadata": {},
   "outputs": [],
   "source": [
    "from sklearn.model_selection import train_test_split\n",
    "from sklearn.ensemble import RandomForestRegressor\n",
    "from sklearn.metrics import mean_absolute_error, r2_score\n",
    "import numpy as np"
   ]
  },
  {
   "cell_type": "code",
   "execution_count": 11,
   "metadata": {},
   "outputs": [
    {
     "data": {
      "text/plain": [
       "0.9304604885062123"
      ]
     },
     "execution_count": 11,
     "metadata": {},
     "output_type": "execute_result"
    }
   ],
   "source": [
    "#Running this cell you will get different scores each run!\n",
    "X_train, X_val, y_train, y_val = train_test_split(X, y, test_size=0.2)  \n",
    "\n",
    "rf = RandomForestRegressor(n_estimators=100, n_jobs=-1, oob_score=True) \n",
    "\n",
    "rf.fit(X_train, y_train) \n",
    "\n",
    "rf.score(X_train, y_train)"
   ]
  },
  {
   "cell_type": "code",
   "execution_count": 12,
   "metadata": {},
   "outputs": [
    {
     "data": {
      "text/plain": [
       "0.646845271457002"
      ]
     },
     "execution_count": 12,
     "metadata": {},
     "output_type": "execute_result"
    }
   ],
   "source": [
    "rf.oob_score_"
   ]
  },
  {
   "cell_type": "code",
   "execution_count": 13,
   "metadata": {},
   "outputs": [
    {
     "data": {
      "text/plain": [
       "0.645615892063415"
      ]
     },
     "execution_count": 13,
     "metadata": {},
     "output_type": "execute_result"
    }
   ],
   "source": [
    "rf.score(X_val, y_val)"
   ]
  },
  {
   "cell_type": "code",
   "execution_count": 14,
   "metadata": {},
   "outputs": [
    {
     "name": "stdout",
     "output_type": "stream",
     "text": [
      "3641.727375\n"
     ]
    },
    {
     "data": {
      "text/plain": [
       "-5.958742263167949e-06"
      ]
     },
     "execution_count": 14,
     "metadata": {},
     "output_type": "execute_result"
    }
   ],
   "source": [
    "avg_preds = [np.mean(y_train)] * len(y_val)\n",
    "\n",
    "print(np.mean(y_train))\n",
    "\n",
    "r2_score(y_val, avg_preds) "
   ]
  },
  {
   "cell_type": "code",
   "execution_count": 15,
   "metadata": {},
   "outputs": [],
   "source": [
    "#Run the Random forest 10 times (different random cuts and out of bags)\n",
    "train_r2 = []\n",
    "train_mae = []\n",
    "val_r2 = []\n",
    "val_mae = []\n",
    "oob_scores = []\n",
    "\n",
    "for i in range(10):\n",
    "    X_train, X_val, y_train, y_val = train_test_split(X, y, test_size=0.2)\n",
    "    rf = RandomForestRegressor(n_estimators=100, n_jobs=-1, oob_score=True) \n",
    "    rf.fit(X_train, y_train)\n",
    "    train_preds = rf.predict(X_train)\n",
    "    val_preds = rf.predict(X_val)\n",
    "    train_r2.append(round(r2_score(y_train, train_preds), 2))\n",
    "    val_r2.append(round(r2_score(y_val, val_preds), 2))\n",
    "    train_mae.append(round(mean_absolute_error(y_train, train_preds), 0))\n",
    "    val_mae.append(round(mean_absolute_error(y_val, val_preds), 0))\n",
    "    oob_scores.append(rf.oob_score_)"
   ]
  },
  {
   "cell_type": "code",
   "execution_count": 16,
   "metadata": {},
   "outputs": [
    {
     "name": "stdout",
     "output_type": "stream",
     "text": [
      "Train r2 scores: \n",
      " [0.93, 0.93, 0.93, 0.93, 0.92, 0.93, 0.92, 0.93, 0.93, 0.93]\n",
      "\n",
      "Validation r2 scores: \n",
      " [0.73, 0.67, 0.58, 0.71, 0.59, 0.74, 0.76, 0.6, 0.8, 0.58]\n",
      "\n",
      "Train MAE scores: \n",
      " [238.0, 234.0, 235.0, 239.0, 237.0, 238.0, 239.0, 232.0, 240.0, 235.0]\n",
      "\n",
      "Validation MAE scores: \n",
      " [450.0, 472.0, 478.0, 436.0, 458.0, 448.0, 452.0, 463.0, 436.0, 478.0]\n",
      "\n",
      "Out-of-bag scores: \n",
      " [0.590329936567758, 0.6102345238595757, 0.6266061489211834, 0.5999944621438713, 0.6276508483595045, 0.5838100249219171, 0.5694933721135399, 0.6594536180639454, 0.5963330158019364, 0.6190654099403388]\n"
     ]
    }
   ],
   "source": [
    "print(\"Train r2 scores: \\n\", train_r2)\n",
    "print(\"\")\n",
    "print(\"Validation r2 scores: \\n\", val_r2)\n",
    "print(\"\")\n",
    "print(\"Train MAE scores: \\n\", train_mae)\n",
    "print(\"\")\n",
    "print(\"Validation MAE scores: \\n\", val_mae)\n",
    "print(\"\")\n",
    "print(\"Out-of-bag scores: \\n\", oob_scores)"
   ]
  },
  {
   "cell_type": "markdown",
   "metadata": {},
   "source": [
    "#### Explanation (5 marks)\n",
    "\n",
    "Please provide an explanation and justification for the code submitted in **Part 1** in the context of the overall objective. "
   ]
  },
  {
   "cell_type": "markdown",
   "metadata": {},
   "source": [
    "### Part 2 - Denoise the data\n",
    "\n",
    "This section should include the code necessary to **denoise** the data, and it should include what is needed to identify inconsistencies, problems, errors, etc. in the data. \n",
    "\n",
    "#### Code (25 marks)"
   ]
  },
  {
   "cell_type": "code",
   "execution_count": 17,
   "metadata": {},
   "outputs": [
    {
     "data": {
      "text/plain": [
       "bathrooms       2.0000\n",
       "bedrooms        2.0000\n",
       "longitude     -73.9425\n",
       "latitude       40.7875\n",
       "price        3395.0000\n",
       "Name: 1100, dtype: float64"
      ]
     },
     "execution_count": 17,
     "metadata": {},
     "output_type": "execute_result"
    }
   ],
   "source": [
    "rent_num.iloc[1100,:]"
   ]
  },
  {
   "cell_type": "code",
   "execution_count": 18,
   "metadata": {},
   "outputs": [
    {
     "data": {
      "text/plain": [
       "11593"
      ]
     },
     "execution_count": 18,
     "metadata": {},
     "output_type": "execute_result"
    }
   ],
   "source": [
    "rent_num.bathrooms.idxmax()"
   ]
  },
  {
   "cell_type": "code",
   "execution_count": 19,
   "metadata": {},
   "outputs": [
    {
     "data": {
      "text/plain": [
       "bathrooms      10.0000\n",
       "bedrooms        2.0000\n",
       "longitude     -73.9849\n",
       "latitude       40.7633\n",
       "price        3600.0000\n",
       "Name: 11593, dtype: float64"
      ]
     },
     "execution_count": 19,
     "metadata": {},
     "output_type": "execute_result"
    }
   ],
   "source": [
    "rent_num.iloc[11593,:]"
   ]
  },
  {
   "cell_type": "code",
   "execution_count": 20,
   "metadata": {},
   "outputs": [
    {
     "data": {
      "text/html": [
       "<div>\n",
       "<style scoped>\n",
       "    .dataframe tbody tr th:only-of-type {\n",
       "        vertical-align: middle;\n",
       "    }\n",
       "\n",
       "    .dataframe tbody tr th {\n",
       "        vertical-align: top;\n",
       "    }\n",
       "\n",
       "    .dataframe thead th {\n",
       "        text-align: right;\n",
       "    }\n",
       "</style>\n",
       "<table border=\"1\" class=\"dataframe\">\n",
       "  <thead>\n",
       "    <tr style=\"text-align: right;\">\n",
       "      <th></th>\n",
       "      <th>bathrooms</th>\n",
       "      <th>bedrooms</th>\n",
       "      <th>longitude</th>\n",
       "      <th>latitude</th>\n",
       "      <th>price</th>\n",
       "    </tr>\n",
       "  </thead>\n",
       "  <tbody>\n",
       "    <tr>\n",
       "      <th>count</th>\n",
       "      <td>20000.000000</td>\n",
       "      <td>20000.000000</td>\n",
       "      <td>20000.000000</td>\n",
       "      <td>20000.000000</td>\n",
       "      <td>20000.000000</td>\n",
       "    </tr>\n",
       "    <tr>\n",
       "      <th>mean</th>\n",
       "      <td>1.207275</td>\n",
       "      <td>1.530650</td>\n",
       "      <td>-73.815636</td>\n",
       "      <td>40.692162</td>\n",
       "      <td>3640.519550</td>\n",
       "    </tr>\n",
       "    <tr>\n",
       "      <th>std</th>\n",
       "      <td>0.492201</td>\n",
       "      <td>1.104953</td>\n",
       "      <td>6.761947</td>\n",
       "      <td>2.370961</td>\n",
       "      <td>2344.670775</td>\n",
       "    </tr>\n",
       "    <tr>\n",
       "      <th>min</th>\n",
       "      <td>0.000000</td>\n",
       "      <td>0.000000</td>\n",
       "      <td>-118.271000</td>\n",
       "      <td>-39.232000</td>\n",
       "      <td>-20000.000000</td>\n",
       "    </tr>\n",
       "    <tr>\n",
       "      <th>25%</th>\n",
       "      <td>1.000000</td>\n",
       "      <td>1.000000</td>\n",
       "      <td>-73.991700</td>\n",
       "      <td>40.728200</td>\n",
       "      <td>2500.000000</td>\n",
       "    </tr>\n",
       "    <tr>\n",
       "      <th>50%</th>\n",
       "      <td>1.000000</td>\n",
       "      <td>1.000000</td>\n",
       "      <td>-73.978000</td>\n",
       "      <td>40.751600</td>\n",
       "      <td>3150.000000</td>\n",
       "    </tr>\n",
       "    <tr>\n",
       "      <th>75%</th>\n",
       "      <td>1.000000</td>\n",
       "      <td>2.000000</td>\n",
       "      <td>-73.954800</td>\n",
       "      <td>40.774200</td>\n",
       "      <td>4095.000000</td>\n",
       "    </tr>\n",
       "    <tr>\n",
       "      <th>max</th>\n",
       "      <td>10.000000</td>\n",
       "      <td>8.000000</td>\n",
       "      <td>157.692000</td>\n",
       "      <td>53.870500</td>\n",
       "      <td>100000.000000</td>\n",
       "    </tr>\n",
       "  </tbody>\n",
       "</table>\n",
       "</div>"
      ],
      "text/plain": [
       "          bathrooms      bedrooms     longitude      latitude          price\n",
       "count  20000.000000  20000.000000  20000.000000  20000.000000   20000.000000\n",
       "mean       1.207275      1.530650    -73.815636     40.692162    3640.519550\n",
       "std        0.492201      1.104953      6.761947      2.370961    2344.670775\n",
       "min        0.000000      0.000000   -118.271000    -39.232000  -20000.000000\n",
       "25%        1.000000      1.000000    -73.991700     40.728200    2500.000000\n",
       "50%        1.000000      1.000000    -73.978000     40.751600    3150.000000\n",
       "75%        1.000000      2.000000    -73.954800     40.774200    4095.000000\n",
       "max       10.000000      8.000000    157.692000     53.870500  100000.000000"
      ]
     },
     "execution_count": 20,
     "metadata": {},
     "output_type": "execute_result"
    }
   ],
   "source": [
    "rent_num.describe()"
   ]
  },
  {
   "cell_type": "code",
   "execution_count": 21,
   "metadata": {},
   "outputs": [
    {
     "data": {
      "text/plain": [
       "count     20000.000000\n",
       "mean       3640.519550\n",
       "std        2344.670775\n",
       "min      -20000.000000\n",
       "25%        2500.000000\n",
       "50%        3150.000000\n",
       "75%        4095.000000\n",
       "max      100000.000000\n",
       "Name: price, dtype: float64"
      ]
     },
     "execution_count": 21,
     "metadata": {},
     "output_type": "execute_result"
    }
   ],
   "source": [
    "rent_num[\"price\"].describe()"
   ]
  },
  {
   "cell_type": "code",
   "execution_count": 22,
   "metadata": {},
   "outputs": [
    {
     "data": {
      "text/html": [
       "<div>\n",
       "<style scoped>\n",
       "    .dataframe tbody tr th:only-of-type {\n",
       "        vertical-align: middle;\n",
       "    }\n",
       "\n",
       "    .dataframe tbody tr th {\n",
       "        vertical-align: top;\n",
       "    }\n",
       "\n",
       "    .dataframe thead th {\n",
       "        text-align: right;\n",
       "    }\n",
       "</style>\n",
       "<table border=\"1\" class=\"dataframe\">\n",
       "  <thead>\n",
       "    <tr style=\"text-align: right;\">\n",
       "      <th></th>\n",
       "      <th>price</th>\n",
       "    </tr>\n",
       "  </thead>\n",
       "  <tbody>\n",
       "    <tr>\n",
       "      <th>8734</th>\n",
       "      <td>100000</td>\n",
       "    </tr>\n",
       "    <tr>\n",
       "      <th>17530</th>\n",
       "      <td>80000</td>\n",
       "    </tr>\n",
       "    <tr>\n",
       "      <th>1397</th>\n",
       "      <td>55000</td>\n",
       "    </tr>\n",
       "    <tr>\n",
       "      <th>12965</th>\n",
       "      <td>53100</td>\n",
       "    </tr>\n",
       "    <tr>\n",
       "      <th>14622</th>\n",
       "      <td>50000</td>\n",
       "    </tr>\n",
       "    <tr>\n",
       "      <th>13659</th>\n",
       "      <td>37000</td>\n",
       "    </tr>\n",
       "    <tr>\n",
       "      <th>8711</th>\n",
       "      <td>35000</td>\n",
       "    </tr>\n",
       "    <tr>\n",
       "      <th>18944</th>\n",
       "      <td>30000</td>\n",
       "    </tr>\n",
       "    <tr>\n",
       "      <th>17815</th>\n",
       "      <td>30000</td>\n",
       "    </tr>\n",
       "    <tr>\n",
       "      <th>15469</th>\n",
       "      <td>30000</td>\n",
       "    </tr>\n",
       "  </tbody>\n",
       "</table>\n",
       "</div>"
      ],
      "text/plain": [
       "        price\n",
       "8734   100000\n",
       "17530   80000\n",
       "1397    55000\n",
       "12965   53100\n",
       "14622   50000\n",
       "13659   37000\n",
       "8711    35000\n",
       "18944   30000\n",
       "17815   30000\n",
       "15469   30000"
      ]
     },
     "execution_count": 22,
     "metadata": {},
     "output_type": "execute_result"
    }
   ],
   "source": [
    "rent_num['price'].sort_values(ascending=False).to_frame().head(10) "
   ]
  },
  {
   "cell_type": "code",
   "execution_count": 23,
   "metadata": {},
   "outputs": [
    {
     "data": {
      "text/html": [
       "<div>\n",
       "<style scoped>\n",
       "    .dataframe tbody tr th:only-of-type {\n",
       "        vertical-align: middle;\n",
       "    }\n",
       "\n",
       "    .dataframe tbody tr th {\n",
       "        vertical-align: top;\n",
       "    }\n",
       "\n",
       "    .dataframe thead th {\n",
       "        text-align: right;\n",
       "    }\n",
       "</style>\n",
       "<table border=\"1\" class=\"dataframe\">\n",
       "  <thead>\n",
       "    <tr style=\"text-align: right;\">\n",
       "      <th></th>\n",
       "      <th>bathrooms</th>\n",
       "    </tr>\n",
       "  </thead>\n",
       "  <tbody>\n",
       "    <tr>\n",
       "      <th>1.0</th>\n",
       "      <td>16017</td>\n",
       "    </tr>\n",
       "    <tr>\n",
       "      <th>2.0</th>\n",
       "      <td>3065</td>\n",
       "    </tr>\n",
       "    <tr>\n",
       "      <th>3.0</th>\n",
       "      <td>305</td>\n",
       "    </tr>\n",
       "    <tr>\n",
       "      <th>1.5</th>\n",
       "      <td>266</td>\n",
       "    </tr>\n",
       "    <tr>\n",
       "      <th>0.0</th>\n",
       "      <td>132</td>\n",
       "    </tr>\n",
       "    <tr>\n",
       "      <th>2.5</th>\n",
       "      <td>123</td>\n",
       "    </tr>\n",
       "    <tr>\n",
       "      <th>4.0</th>\n",
       "      <td>45</td>\n",
       "    </tr>\n",
       "    <tr>\n",
       "      <th>3.5</th>\n",
       "      <td>27</td>\n",
       "    </tr>\n",
       "    <tr>\n",
       "      <th>4.5</th>\n",
       "      <td>11</td>\n",
       "    </tr>\n",
       "    <tr>\n",
       "      <th>5.0</th>\n",
       "      <td>4</td>\n",
       "    </tr>\n",
       "    <tr>\n",
       "      <th>6.0</th>\n",
       "      <td>2</td>\n",
       "    </tr>\n",
       "    <tr>\n",
       "      <th>5.5</th>\n",
       "      <td>2</td>\n",
       "    </tr>\n",
       "    <tr>\n",
       "      <th>10.0</th>\n",
       "      <td>1</td>\n",
       "    </tr>\n",
       "  </tbody>\n",
       "</table>\n",
       "</div>"
      ],
      "text/plain": [
       "      bathrooms\n",
       "1.0       16017\n",
       "2.0        3065\n",
       "3.0         305\n",
       "1.5         266\n",
       "0.0         132\n",
       "2.5         123\n",
       "4.0          45\n",
       "3.5          27\n",
       "4.5          11\n",
       "5.0           4\n",
       "6.0           2\n",
       "5.5           2\n",
       "10.0          1"
      ]
     },
     "execution_count": 23,
     "metadata": {},
     "output_type": "execute_result"
    }
   ],
   "source": [
    "rent_num['bathrooms'].value_counts().to_frame()"
   ]
  },
  {
   "cell_type": "code",
   "execution_count": 24,
   "metadata": {},
   "outputs": [
    {
     "data": {
      "text/html": [
       "<div>\n",
       "<style scoped>\n",
       "    .dataframe tbody tr th:only-of-type {\n",
       "        vertical-align: middle;\n",
       "    }\n",
       "\n",
       "    .dataframe tbody tr th {\n",
       "        vertical-align: top;\n",
       "    }\n",
       "\n",
       "    .dataframe thead th {\n",
       "        text-align: right;\n",
       "    }\n",
       "</style>\n",
       "<table border=\"1\" class=\"dataframe\">\n",
       "  <thead>\n",
       "    <tr style=\"text-align: right;\">\n",
       "      <th></th>\n",
       "      <th>bedrooms</th>\n",
       "    </tr>\n",
       "  </thead>\n",
       "  <tbody>\n",
       "    <tr>\n",
       "      <th>1</th>\n",
       "      <td>6392</td>\n",
       "    </tr>\n",
       "    <tr>\n",
       "      <th>2</th>\n",
       "      <td>5971</td>\n",
       "    </tr>\n",
       "    <tr>\n",
       "      <th>0</th>\n",
       "      <td>3867</td>\n",
       "    </tr>\n",
       "    <tr>\n",
       "      <th>3</th>\n",
       "      <td>2920</td>\n",
       "    </tr>\n",
       "    <tr>\n",
       "      <th>4</th>\n",
       "      <td>751</td>\n",
       "    </tr>\n",
       "    <tr>\n",
       "      <th>5</th>\n",
       "      <td>82</td>\n",
       "    </tr>\n",
       "    <tr>\n",
       "      <th>6</th>\n",
       "      <td>15</td>\n",
       "    </tr>\n",
       "    <tr>\n",
       "      <th>8</th>\n",
       "      <td>1</td>\n",
       "    </tr>\n",
       "    <tr>\n",
       "      <th>7</th>\n",
       "      <td>1</td>\n",
       "    </tr>\n",
       "  </tbody>\n",
       "</table>\n",
       "</div>"
      ],
      "text/plain": [
       "   bedrooms\n",
       "1      6392\n",
       "2      5971\n",
       "0      3867\n",
       "3      2920\n",
       "4       751\n",
       "5        82\n",
       "6        15\n",
       "8         1\n",
       "7         1"
      ]
     },
     "execution_count": 24,
     "metadata": {},
     "output_type": "execute_result"
    }
   ],
   "source": [
    "rent_num['bedrooms'].value_counts().to_frame()"
   ]
  },
  {
   "cell_type": "code",
   "execution_count": 25,
   "metadata": {},
   "outputs": [
    {
     "data": {
      "text/plain": [
       "count    20000.000000\n",
       "mean       -73.815636\n",
       "std          6.761947\n",
       "min       -118.271000\n",
       "25%        -73.991700\n",
       "50%        -73.978000\n",
       "75%        -73.954800\n",
       "max        157.692000\n",
       "Name: longitude, dtype: float64"
      ]
     },
     "execution_count": 25,
     "metadata": {},
     "output_type": "execute_result"
    }
   ],
   "source": [
    "#Look at the maximum and minimum values of the longitude!\n",
    "rent_num.longitude.describe()"
   ]
  },
  {
   "cell_type": "code",
   "execution_count": 26,
   "metadata": {},
   "outputs": [
    {
     "data": {
      "text/plain": [
       "2187"
      ]
     },
     "execution_count": 26,
     "metadata": {},
     "output_type": "execute_result"
    }
   ],
   "source": [
    "#Let us find the flat with the minimum longitude of -118.271\n",
    "rent_num.longitude.idxmin()"
   ]
  },
  {
   "cell_type": "code",
   "execution_count": 27,
   "metadata": {},
   "outputs": [
    {
     "data": {
      "text/plain": [
       "bathrooms       1.0000\n",
       "bedrooms        1.0000\n",
       "longitude    -118.2710\n",
       "latitude       34.0126\n",
       "price        2425.0000\n",
       "Name: 2187, dtype: float64"
      ]
     },
     "execution_count": 27,
     "metadata": {},
     "output_type": "execute_result"
    }
   ],
   "source": [
    "rent_num.iloc[2187,:]"
   ]
  },
  {
   "cell_type": "code",
   "execution_count": 28,
   "metadata": {},
   "outputs": [
    {
     "data": {
      "text/plain": [
       "count    20000.000000\n",
       "mean        40.692162\n",
       "std          2.370961\n",
       "min        -39.232000\n",
       "25%         40.728200\n",
       "50%         40.751600\n",
       "75%         40.774200\n",
       "max         53.870500\n",
       "Name: latitude, dtype: float64"
      ]
     },
     "execution_count": 28,
     "metadata": {},
     "output_type": "execute_result"
    }
   ],
   "source": [
    "#Look at the maximum and minimum values of the latitude!\n",
    "rent_num.latitude.describe()"
   ]
  },
  {
   "cell_type": "code",
   "execution_count": 29,
   "metadata": {},
   "outputs": [
    {
     "data": {
      "text/plain": [
       "True"
      ]
     },
     "execution_count": 29,
     "metadata": {},
     "output_type": "execute_result"
    }
   ],
   "source": [
    "#Check if we have any flats longitude = 0 and latitude = 0\n",
    "((rent_num['longitude'] == 0.0) & (rent_num['latitude'] == 0.0)).any()"
   ]
  },
  {
   "cell_type": "code",
   "execution_count": 30,
   "metadata": {},
   "outputs": [
    {
     "data": {
      "text/plain": [
       "4"
      ]
     },
     "execution_count": 30,
     "metadata": {},
     "output_type": "execute_result"
    }
   ],
   "source": [
    "#How many flats longitude = 0\n",
    "((rent_num['longitude'] == 0.0) & (rent_num['latitude'] == 0.0)).sum()"
   ]
  },
  {
   "cell_type": "code",
   "execution_count": 31,
   "metadata": {},
   "outputs": [
    {
     "data": {
      "text/html": [
       "<div>\n",
       "<style scoped>\n",
       "    .dataframe tbody tr th:only-of-type {\n",
       "        vertical-align: middle;\n",
       "    }\n",
       "\n",
       "    .dataframe tbody tr th {\n",
       "        vertical-align: top;\n",
       "    }\n",
       "\n",
       "    .dataframe thead th {\n",
       "        text-align: right;\n",
       "    }\n",
       "</style>\n",
       "<table border=\"1\" class=\"dataframe\">\n",
       "  <thead>\n",
       "    <tr style=\"text-align: right;\">\n",
       "      <th></th>\n",
       "      <th>bathrooms</th>\n",
       "      <th>bedrooms</th>\n",
       "      <th>longitude</th>\n",
       "      <th>latitude</th>\n",
       "      <th>price</th>\n",
       "    </tr>\n",
       "  </thead>\n",
       "  <tbody>\n",
       "    <tr>\n",
       "      <th>2696</th>\n",
       "      <td>1.0</td>\n",
       "      <td>1</td>\n",
       "      <td>0.0</td>\n",
       "      <td>0.0</td>\n",
       "      <td>3495</td>\n",
       "    </tr>\n",
       "    <tr>\n",
       "      <th>7700</th>\n",
       "      <td>1.0</td>\n",
       "      <td>1</td>\n",
       "      <td>0.0</td>\n",
       "      <td>0.0</td>\n",
       "      <td>1750</td>\n",
       "    </tr>\n",
       "    <tr>\n",
       "      <th>14156</th>\n",
       "      <td>1.0</td>\n",
       "      <td>2</td>\n",
       "      <td>0.0</td>\n",
       "      <td>0.0</td>\n",
       "      <td>4395</td>\n",
       "    </tr>\n",
       "    <tr>\n",
       "      <th>14567</th>\n",
       "      <td>1.0</td>\n",
       "      <td>2</td>\n",
       "      <td>0.0</td>\n",
       "      <td>0.0</td>\n",
       "      <td>3200</td>\n",
       "    </tr>\n",
       "  </tbody>\n",
       "</table>\n",
       "</div>"
      ],
      "text/plain": [
       "       bathrooms  bedrooms  longitude  latitude  price\n",
       "2696         1.0         1        0.0       0.0   3495\n",
       "7700         1.0         1        0.0       0.0   1750\n",
       "14156        1.0         2        0.0       0.0   4395\n",
       "14567        1.0         2        0.0       0.0   3200"
      ]
     },
     "execution_count": 31,
     "metadata": {},
     "output_type": "execute_result"
    }
   ],
   "source": [
    "rent_num[(rent_num['longitude'] == 0.0) & (rent_num['latitude'] == 0.0)]"
   ]
  },
  {
   "cell_type": "code",
   "execution_count": 32,
   "metadata": {},
   "outputs": [],
   "source": [
    "rent_clean = rent_num[(rent_num['price'] > 1000) & (rent_num['price'] < 10000)]"
   ]
  },
  {
   "cell_type": "code",
   "execution_count": 33,
   "metadata": {},
   "outputs": [
    {
     "data": {
      "text/plain": [
       "(20000, 5)"
      ]
     },
     "execution_count": 33,
     "metadata": {},
     "output_type": "execute_result"
    }
   ],
   "source": [
    "#size before the cleanup\n",
    "rent_num.shape"
   ]
  },
  {
   "cell_type": "code",
   "execution_count": 34,
   "metadata": {},
   "outputs": [
    {
     "data": {
      "text/plain": [
       "(19599, 5)"
      ]
     },
     "execution_count": 34,
     "metadata": {},
     "output_type": "execute_result"
    }
   ],
   "source": [
    "#size after the cleanup\n",
    "rent_clean.shape"
   ]
  },
  {
   "cell_type": "code",
   "execution_count": 35,
   "metadata": {},
   "outputs": [
    {
     "data": {
      "text/plain": [
       "Text(0, 0.5, 'Num Apts at that price')"
      ]
     },
     "execution_count": 35,
     "metadata": {},
     "output_type": "execute_result"
    },
    {
     "data": {
      "image/png": "[encoded data removed]",
      "text/plain": [
       "<Figure size 432x288 with 1 Axes>"
      ]
     },
     "metadata": {
      "needs_background": "light"
     },
     "output_type": "display_data"
    }
   ],
   "source": [
    "#look at the distribution of the price\n",
    "import matplotlib.pyplot as plt\n",
    "\n",
    "plt.hist(rent_clean['price'], bins=45)\n",
    "plt.xlabel('Clipped Price')\n",
    "plt.ylabel('Num Apts at that price')"
   ]
  },
  {
   "cell_type": "code",
   "execution_count": 36,
   "metadata": {},
   "outputs": [],
   "source": [
    "#Remove flats that have longitude or latitude as 0\n",
    "rent_clean = rent_clean[(rent_clean['longitude'] !=0) | (rent_clean['latitude']!=0)]"
   ]
  },
  {
   "cell_type": "code",
   "execution_count": 37,
   "metadata": {},
   "outputs": [
    {
     "data": {
      "text/plain": [
       "(19595, 5)"
      ]
     },
     "execution_count": 37,
     "metadata": {},
     "output_type": "execute_result"
    }
   ],
   "source": [
    "rent_clean.shape"
   ]
  },
  {
   "cell_type": "code",
   "execution_count": 38,
   "metadata": {},
   "outputs": [
    {
     "data": {
      "text/plain": [
       "longitude   -73.9617\n",
       "latitude     40.7604\n",
       "Name: 0, dtype: float64"
      ]
     },
     "execution_count": 38,
     "metadata": {},
     "output_type": "execute_result"
    }
   ],
   "source": [
    "#Let us have a look at the flat's location with index 0\n",
    "#We will use google maps to check the actual location of the flat [[40.711, -73.954]]\n",
    "rent_clean.iloc[0,2:4]"
   ]
  },
  {
   "cell_type": "markdown",
   "metadata": {},
   "source": [
    "### Part 3 - Create and evaluate a final model\n",
    "\n",
    "Create the final model using the deonised data, compare the original models and the new model using oob **score** and the **R-squared**.\n",
    "\n",
    "#### Code (15 marks)"
   ]
  },
  {
   "cell_type": "code",
   "execution_count": 39,
   "metadata": {},
   "outputs": [],
   "source": [
    "X_clean = rent_clean.drop('price', axis=1)\n",
    "y_clean = rent_clean['price']"
   ]
  },
  {
   "cell_type": "code",
   "execution_count": 40,
   "metadata": {},
   "outputs": [
    {
     "data": {
      "text/plain": [
       "0.9501416655824322"
      ]
     },
     "execution_count": 40,
     "metadata": {},
     "output_type": "execute_result"
    }
   ],
   "source": [
    "X_clean_train, X_clean_val, y_clean_train, y_clean_val = train_test_split(X_clean, y_clean, test_size=0.2)  \n",
    "\n",
    "rf_clean = RandomForestRegressor(n_estimators=100, n_jobs=-1, oob_score=True) \n",
    "\n",
    "rf_clean.fit(X_clean_train, y_clean_train) \n",
    "\n",
    "rf_clean.score(X_clean_train, y_clean_train)"
   ]
  },
  {
   "cell_type": "code",
   "execution_count": 41,
   "metadata": {},
   "outputs": [
    {
     "data": {
      "text/plain": [
       "0.8139806929572422"
      ]
     },
     "execution_count": 41,
     "metadata": {},
     "output_type": "execute_result"
    }
   ],
   "source": [
    "rf_clean.oob_score_"
   ]
  },
  {
   "cell_type": "code",
   "execution_count": 42,
   "metadata": {},
   "outputs": [
    {
     "data": {
      "text/plain": [
       "0.7987799065431589"
      ]
     },
     "execution_count": 42,
     "metadata": {},
     "output_type": "execute_result"
    }
   ],
   "source": [
    "rf_clean.score(X_clean_val, y_clean_val)"
   ]
  },
  {
   "cell_type": "code",
   "execution_count": 44,
   "metadata": {},
   "outputs": [],
   "source": [
    "#Run the Random forest 10 times (different random cuts and out of bags)\n",
    "train_r2 = []\n",
    "train_mae = []\n",
    "val_r2 = []\n",
    "val_mae = []\n",
    "oob_scores = []\n",
    "\n",
    "for i in range(10):\n",
    "    X_clean_train, X_clean_val, y_clean_train, y_clean_val = train_test_split(X_clean, y_clean, test_size=0.2)\n",
    "    rf_clean = RandomForestRegressor(n_estimators=100, n_jobs=-1, oob_score=True) \n",
    "    rf_clean.fit(X_clean_train, y_clean_train)\n",
    "    train_preds = rf_clean.predict(X_clean_train)\n",
    "    val_preds = rf_clean.predict(X_clean_val)\n",
    "    train_r2.append(round(r2_score(y_clean_train, train_preds), 4))\n",
    "    val_r2.append(round(r2_score(y_clean_val, val_preds), 4))\n",
    "    train_mae.append(round(mean_absolute_error(y_clean_train, train_preds), 0))\n",
    "    val_mae.append(round(mean_absolute_error(y_clean_val, val_preds), 0))\n",
    "    oob_scores.append(round(rf_clean.oob_score_, 4))\n"
   ]
  },
  {
   "cell_type": "code",
   "execution_count": 47,
   "metadata": {},
   "outputs": [
    {
     "name": "stdout",
     "output_type": "stream",
     "text": [
      "After cleaning: \n",
      "\n",
      "Train r2 scores: \n",
      " [0.9484, 0.9488, 0.9528, 0.9515, 0.9489, 0.9502, 0.9515, 0.9484, 0.9493, 0.9489]\n",
      "\n",
      "Validation r2 scores: \n",
      " [0.823, 0.8091, 0.7848, 0.7958, 0.8335, 0.8238, 0.805, 0.8046, 0.8109, 0.8248]\n",
      "\n",
      "Train MAE scores: \n",
      " [191.0, 192.0, 186.0, 188.0, 191.0, 189.0, 189.0, 190.0, 190.0, 191.0]\n",
      "\n",
      "Validation MAE scores: \n",
      " [348.0, 350.0, 371.0, 365.0, 341.0, 351.0, 353.0, 361.0, 355.0, 346.0]\n",
      "\n",
      "Validation OOB scores: \n",
      " [0.8063, 0.8105, 0.8209, 0.8131, 0.8053, 0.808, 0.8142, 0.8105, 0.8121, 0.8058]\n"
     ]
    }
   ],
   "source": [
    "print(\"After cleaning: \\n\")\n",
    "print(\"Train r2 scores: \\n\", train_r2)\n",
    "print(\"\")\n",
    "print(\"Validation r2 scores: \\n\", val_r2)\n",
    "print(\"\")\n",
    "print(\"Train MAE scores: \\n\", train_mae)\n",
    "print(\"\")\n",
    "print(\"Validation MAE scores: \\n\", val_mae)\n",
    "print(\"\")\n",
    "print(\"Validation OOB scores: \\n\", oob_scores)"
   ]
  },
  {
   "cell_type": "code",
   "execution_count": 48,
   "metadata": {},
   "outputs": [
    {
     "name": "stdout",
     "output_type": "stream",
     "text": [
      "Mean train r2:  0.9499\n",
      "Mean validation r2:  0.8115\n",
      "Mean train MAE:  190.0\n",
      "Mean validation MAE:  354.0\n",
      "OOB Score: 80.585\n"
     ]
    }
   ],
   "source": [
    "print(\"Mean train r2: \", round(np.mean(train_r2), 4))\n",
    "print(\"Mean validation r2: \", round(np.mean(val_r2), 4))\n",
    "print(\"Mean train MAE: \", round(np.mean(train_mae), 0))\n",
    "print(\"Mean validation MAE: \", round(np.mean(val_mae), 0))\n",
    "print('OOB Score:',(rf_clean.oob_score_*100).round(3))\n"
   ]
  },
  {
   "cell_type": "code",
   "execution_count": null,
   "metadata": {},
   "outputs": [],
   "source": [
    "##Part3- Explanation:\n",
    "since we want to predict price we moved it in y_clean and removed from X_clean, then we are splitting the train and test data by using train_test_split\n",
    "and passing X_clean, y_clean as params.Then we are applying RandomForestRegressor which consists of params n_estimators which we took 100 that means it creates 100 number of trees to build before taking the maximum voting or averages of predictions.\n",
    "Then n_jobs :\n",
    "This parameter tells the engine how many processors is it allowed to use. A value of “-1” means there is no restriction whereas a value of “1” means it can only use one processor.\n",
    "oob_score :This is a random forest cross validation method. It is very similar to leave one out validation technique, however, this is so much faster. This method simply tags every observation used in different tress. And then it finds out a maximum vote score for every observation based on only trees which did not use this particular observation to train itself.\n",
    "Then we use .fit() to train it, and then call .score() to get scores.\n",
    "then we loop the model 10 times to check the results how it changes everytime.\n",
    "Model is giving R2 as 81% and OOB as 80.5%.\n",
    "It is suggested to consider OOB score for evaluation and given importance than R squared error."
   ]
  },
  {
   "cell_type": "markdown",
   "metadata": {},
   "source": [
    "#### Explanation (5 marks)\n",
    "\n",
    "Please provide an explanation and justification for the code submitted in **Part 3** in the context of the overall objective. "
   ]
  },
  {
   "cell_type": "markdown",
   "metadata": {},
   "source": [
    "### Part 4 - Document the problems (35 marks)\n",
    "\n",
    "In this part, please use the table below to document your understanding of all the data issues you discovered. Note that **no code** should be included, as that should be covered in **Part 2**. Also, note that even if one line of code fixed a few problems, you should list each problem separately in the table below, so be sure you have investigated the data properly. For example, if the list `[-6, 5, 0, 50]` represents heights of adults, the -6, 0, and 50 would represent three data issues to be included in the table below, even though one line of code may be able to address all of them. \n",
    "\n",
    "| Data issue discovered | Why is this a problem? | How did you fix it? | Why is this fix appropriate? |\n",
    "| :- | :- | :- | :- | \n",
    "|  example problem 1  | example explanation    | example fix  | example explanation about why this fix is appropriate   |\n",
    "|  example problem 2  | example explanation    | example fix  | example explanation about why this fix is appropriate   |\n"
   ]
  },
  {
   "cell_type": "code",
   "execution_count": null,
   "metadata": {},
   "outputs": [],
   "source": [
    "In the beginning removed few columns\t The columns which are not being considered important are removed from the data so as to improve the accuracy of the model and make it faster with only relevant data.\n",
    "The columns removed are mostly text namely: Building ID, Created, Unnamed, Description, Display_Address, Manager_id , Photos ,Street_address \n",
    "removing data with latitude and longitude 0 \t there must be some error with the data entry as lat and long 0 lies in atlantic ocean.\n",
    "The final results overall are good with\n",
    "#R2 score: 81.15\n",
    "#MAE:  354.0\n",
    "#OOB Score: 80.585"
   ]
  }
 ],
 "metadata": {
  "kernelspec": {
   "display_name": "Python 3 (ipykernel)",
   "language": "python",
   "name": "python3"
  },
  "language_info": {
   "codemirror_mode": {
    "name": "ipython",
    "version": 3
   },
   "file_extension": ".py",
   "mimetype": "text/x-python",
   "name": "python",
   "nbconvert_exporter": "python",
   "pygments_lexer": "ipython3",
   "version": "3.9.7"
  }
 },
 "nbformat": 4,
 "nbformat_minor": 4
}
